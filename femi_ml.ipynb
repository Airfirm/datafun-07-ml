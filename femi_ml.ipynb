{
 "cells": [
  {
   "cell_type": "markdown",
   "id": "2af2ba13",
   "metadata": {},
   "source": [
    "# Machine Learning Linear Regression\n",
    "\n",
    "- Author: Oluwafemi Salawu\n",
    "- Date:   06/14/2025\n",
    "- https://github.com/Airfirm/datafun-07-ml"
   ]
  },
  {
   "cell_type": "markdown",
   "id": "6bede883",
   "metadata": {},
   "source": [
    "Section 1. Imports"
   ]
  },
  {
   "cell_type": "code",
   "execution_count": null,
   "id": "2e3acbcf",
   "metadata": {},
   "outputs": [],
   "source": []
  }
 ],
 "metadata": {
  "kernelspec": {
   "display_name": ".venv",
   "language": "python",
   "name": "python3"
  },
  "language_info": {
   "name": "python",
   "version": "3.13.3"
  }
 },
 "nbformat": 4,
 "nbformat_minor": 5
}
