{
 "cells": [
  {
   "cell_type": "markdown",
   "id": "2af2ba13",
   "metadata": {},
   "source": [
    "# Machine Learning Linear Regression\n",
    "\n",
    "- Author: Oluwafemi Salawu\n",
    "- Date:   06/14/2025\n",
    "- https://github.com/Airfirm/datafun-07-ml"
   ]
  },
  {
   "cell_type": "markdown",
   "id": "6bede883",
   "metadata": {},
   "source": [
    "Section 1. Imports"
   ]
  },
  {
   "cell_type": "code",
   "execution_count": 146,
   "id": "2e3acbcf",
   "metadata": {},
   "outputs": [],
   "source": [
    "import sklearn\n",
    "import pandas as pd\n",
    "from scipy import stats\n",
    "import seaborn as sns"
   ]
  },
  {
   "cell_type": "markdown",
   "id": "700e7e30",
   "metadata": {},
   "source": [
    "## Part 1 - Chart a Straight Line."
   ]
  },
  {
   "cell_type": "markdown",
   "id": "4f02180d",
   "metadata": {},
   "source": [
    "Section 10.16 Snippets\n",
    "- This file includes the Self Check snippets which continue from the section body.\n",
    "\n",
    "- Time Series\n",
    "- Simple Linear Regression\n",
    "- Linear Relationships"
   ]
  },
  {
   "cell_type": "markdown",
   "id": "f174e45f",
   "metadata": {},
   "source": [
    "Display the linear relationship between the Celsius vs Fahrenheit"
   ]
  },
  {
   "cell_type": "code",
   "execution_count": 147,
   "id": "47f9b1d8",
   "metadata": {},
   "outputs": [
    {
     "data": {
      "image/png": "[encoded data removed]",
      "text/plain": [
       "<Figure size 640x480 with 1 Axes>"
      ]
     },
     "metadata": {},
     "output_type": "display_data"
    }
   ],
   "source": [
    "c = lambda f: 5 / 9 * (f - 32)\n",
    "\n",
    "temps = [(f, c(f)) for f in range(0, 101, 10)]\n",
    "\n",
    "# import pandas as pd\n",
    "\n",
    "temps_df = pd.DataFrame(temps, columns=['Fahrenheit', 'Celsius'])\n",
    "\n",
    "axes = temps_df.plot(x='Fahrenheit', y='Celsius', style='.-')\n",
    "\n",
    "y_label = axes.set_ylabel('Celsius')"
   ]
  },
  {
   "cell_type": "markdown",
   "id": "72e5577d",
   "metadata": {},
   "source": [
    "## Part 2 - Prediction."
   ]
  },
  {
   "cell_type": "markdown",
   "id": "46e5aca5",
   "metadata": {},
   "source": [
    "### Section 1 - Data Acquisition"
   ]
  },
  {
   "cell_type": "markdown",
   "id": "238c6d26",
   "metadata": {},
   "source": [
    "Components of the Simple Linear Regression Equation\n",
    "- SciPy’s stats Module\n",
    "- Pandas\n",
    "- Seaborn Visualization\n",
    "- Getting Weather Data from NOAA"
   ]
  },
  {
   "cell_type": "code",
   "execution_count": 148,
   "id": "9353e683",
   "metadata": {},
   "outputs": [],
   "source": [
    "# Loading the Average High Temperatures into a DataFrame\n",
    "nyc_df = pd.read_csv('ave_hi_nyc_jan_1895-2018.csv')\n"
   ]
  },
  {
   "cell_type": "markdown",
   "id": "4984c8a3",
   "metadata": {},
   "source": [
    "### Section 2 - Data Inspection"
   ]
  },
  {
   "cell_type": "code",
   "execution_count": 149,
   "id": "314ce4d3",
   "metadata": {},
   "outputs": [
    {
     "data": {
      "text/html": [
       "<div>\n",
       "<style scoped>\n",
       "    .dataframe tbody tr th:only-of-type {\n",
       "        vertical-align: middle;\n",
       "    }\n",
       "\n",
       "    .dataframe tbody tr th {\n",
       "        vertical-align: top;\n",
       "    }\n",
       "\n",
       "    .dataframe thead th {\n",
       "        text-align: right;\n",
       "    }\n",
       "</style>\n",
       "<table border=\"1\" class=\"dataframe\">\n",
       "  <thead>\n",
       "    <tr style=\"text-align: right;\">\n",
       "      <th></th>\n",
       "      <th>Date</th>\n",
       "      <th>Value</th>\n",
       "      <th>Anomaly</th>\n",
       "    </tr>\n",
       "  </thead>\n",
       "  <tbody>\n",
       "    <tr>\n",
       "      <th>0</th>\n",
       "      <td>189501</td>\n",
       "      <td>34.2</td>\n",
       "      <td>-3.2</td>\n",
       "    </tr>\n",
       "    <tr>\n",
       "      <th>1</th>\n",
       "      <td>189601</td>\n",
       "      <td>34.7</td>\n",
       "      <td>-2.7</td>\n",
       "    </tr>\n",
       "    <tr>\n",
       "      <th>2</th>\n",
       "      <td>189701</td>\n",
       "      <td>35.5</td>\n",
       "      <td>-1.9</td>\n",
       "    </tr>\n",
       "    <tr>\n",
       "      <th>3</th>\n",
       "      <td>189801</td>\n",
       "      <td>39.6</td>\n",
       "      <td>2.2</td>\n",
       "    </tr>\n",
       "    <tr>\n",
       "      <th>4</th>\n",
       "      <td>189901</td>\n",
       "      <td>36.4</td>\n",
       "      <td>-1.0</td>\n",
       "    </tr>\n",
       "  </tbody>\n",
       "</table>\n",
       "</div>"
      ],
      "text/plain": [
       "     Date  Value  Anomaly\n",
       "0  189501   34.2     -3.2\n",
       "1  189601   34.7     -2.7\n",
       "2  189701   35.5     -1.9\n",
       "3  189801   39.6      2.2\n",
       "4  189901   36.4     -1.0"
      ]
     },
     "execution_count": 149,
     "metadata": {},
     "output_type": "execute_result"
    }
   ],
   "source": [
    "nyc_df.head()"
   ]
  },
  {
   "cell_type": "code",
   "execution_count": 150,
   "id": "0fd5767c",
   "metadata": {},
   "outputs": [
    {
     "data": {
      "text/html": [
       "<div>\n",
       "<style scoped>\n",
       "    .dataframe tbody tr th:only-of-type {\n",
       "        vertical-align: middle;\n",
       "    }\n",
       "\n",
       "    .dataframe tbody tr th {\n",
       "        vertical-align: top;\n",
       "    }\n",
       "\n",
       "    .dataframe thead th {\n",
       "        text-align: right;\n",
       "    }\n",
       "</style>\n",
       "<table border=\"1\" class=\"dataframe\">\n",
       "  <thead>\n",
       "    <tr style=\"text-align: right;\">\n",
       "      <th></th>\n",
       "      <th>Date</th>\n",
       "      <th>Value</th>\n",
       "      <th>Anomaly</th>\n",
       "    </tr>\n",
       "  </thead>\n",
       "  <tbody>\n",
       "    <tr>\n",
       "      <th>119</th>\n",
       "      <td>201401</td>\n",
       "      <td>35.5</td>\n",
       "      <td>-1.9</td>\n",
       "    </tr>\n",
       "    <tr>\n",
       "      <th>120</th>\n",
       "      <td>201501</td>\n",
       "      <td>36.1</td>\n",
       "      <td>-1.3</td>\n",
       "    </tr>\n",
       "    <tr>\n",
       "      <th>121</th>\n",
       "      <td>201601</td>\n",
       "      <td>40.8</td>\n",
       "      <td>3.4</td>\n",
       "    </tr>\n",
       "    <tr>\n",
       "      <th>122</th>\n",
       "      <td>201701</td>\n",
       "      <td>42.8</td>\n",
       "      <td>5.4</td>\n",
       "    </tr>\n",
       "    <tr>\n",
       "      <th>123</th>\n",
       "      <td>201801</td>\n",
       "      <td>38.7</td>\n",
       "      <td>1.3</td>\n",
       "    </tr>\n",
       "  </tbody>\n",
       "</table>\n",
       "</div>"
      ],
      "text/plain": [
       "       Date  Value  Anomaly\n",
       "119  201401   35.5     -1.9\n",
       "120  201501   36.1     -1.3\n",
       "121  201601   40.8      3.4\n",
       "122  201701   42.8      5.4\n",
       "123  201801   38.7      1.3"
      ]
     },
     "execution_count": 150,
     "metadata": {},
     "output_type": "execute_result"
    }
   ],
   "source": [
    "nyc_df.tail()"
   ]
  },
  {
   "cell_type": "markdown",
   "id": "f4274a98",
   "metadata": {},
   "source": [
    "### Section 3 - Data Cleaning"
   ]
  },
  {
   "cell_type": "code",
   "execution_count": 151,
   "id": "939779fc",
   "metadata": {},
   "outputs": [],
   "source": [
    "# Cleaning the Data\n",
    "nyc_df.columns = ['Date', 'Temperature', 'Anomaly']"
   ]
  },
  {
   "cell_type": "code",
   "execution_count": 152,
   "id": "635979b8",
   "metadata": {},
   "outputs": [
    {
     "data": {
      "text/html": [
       "<div>\n",
       "<style scoped>\n",
       "    .dataframe tbody tr th:only-of-type {\n",
       "        vertical-align: middle;\n",
       "    }\n",
       "\n",
       "    .dataframe tbody tr th {\n",
       "        vertical-align: top;\n",
       "    }\n",
       "\n",
       "    .dataframe thead th {\n",
       "        text-align: right;\n",
       "    }\n",
       "</style>\n",
       "<table border=\"1\" class=\"dataframe\">\n",
       "  <thead>\n",
       "    <tr style=\"text-align: right;\">\n",
       "      <th></th>\n",
       "      <th>Date</th>\n",
       "      <th>Temperature</th>\n",
       "      <th>Anomaly</th>\n",
       "    </tr>\n",
       "  </thead>\n",
       "  <tbody>\n",
       "    <tr>\n",
       "      <th>0</th>\n",
       "      <td>189501</td>\n",
       "      <td>34.2</td>\n",
       "      <td>-3.2</td>\n",
       "    </tr>\n",
       "    <tr>\n",
       "      <th>1</th>\n",
       "      <td>189601</td>\n",
       "      <td>34.7</td>\n",
       "      <td>-2.7</td>\n",
       "    </tr>\n",
       "    <tr>\n",
       "      <th>2</th>\n",
       "      <td>189701</td>\n",
       "      <td>35.5</td>\n",
       "      <td>-1.9</td>\n",
       "    </tr>\n",
       "  </tbody>\n",
       "</table>\n",
       "</div>"
      ],
      "text/plain": [
       "     Date  Temperature  Anomaly\n",
       "0  189501         34.2     -3.2\n",
       "1  189601         34.7     -2.7\n",
       "2  189701         35.5     -1.9"
      ]
     },
     "execution_count": 152,
     "metadata": {},
     "output_type": "execute_result"
    }
   ],
   "source": [
    "nyc_df.head(3)"
   ]
  },
  {
   "cell_type": "code",
   "execution_count": 153,
   "id": "60d2a108",
   "metadata": {},
   "outputs": [
    {
     "data": {
      "text/plain": [
       "dtype('int64')"
      ]
     },
     "execution_count": 153,
     "metadata": {},
     "output_type": "execute_result"
    }
   ],
   "source": [
    "nyc_df.Date.dtype"
   ]
  },
  {
   "cell_type": "code",
   "execution_count": 154,
   "id": "320bbd02",
   "metadata": {},
   "outputs": [],
   "source": [
    "nyc_df.Date = nyc.Date.floordiv(100)\n"
   ]
  },
  {
   "cell_type": "code",
   "execution_count": 155,
   "id": "566e61b8",
   "metadata": {},
   "outputs": [
    {
     "data": {
      "text/html": [
       "<div>\n",
       "<style scoped>\n",
       "    .dataframe tbody tr th:only-of-type {\n",
       "        vertical-align: middle;\n",
       "    }\n",
       "\n",
       "    .dataframe tbody tr th {\n",
       "        vertical-align: top;\n",
       "    }\n",
       "\n",
       "    .dataframe thead th {\n",
       "        text-align: right;\n",
       "    }\n",
       "</style>\n",
       "<table border=\"1\" class=\"dataframe\">\n",
       "  <thead>\n",
       "    <tr style=\"text-align: right;\">\n",
       "      <th></th>\n",
       "      <th>Date</th>\n",
       "      <th>Temperature</th>\n",
       "      <th>Anomaly</th>\n",
       "    </tr>\n",
       "  </thead>\n",
       "  <tbody>\n",
       "    <tr>\n",
       "      <th>0</th>\n",
       "      <td>18</td>\n",
       "      <td>34.2</td>\n",
       "      <td>-3.2</td>\n",
       "    </tr>\n",
       "    <tr>\n",
       "      <th>1</th>\n",
       "      <td>18</td>\n",
       "      <td>34.7</td>\n",
       "      <td>-2.7</td>\n",
       "    </tr>\n",
       "    <tr>\n",
       "      <th>2</th>\n",
       "      <td>18</td>\n",
       "      <td>35.5</td>\n",
       "      <td>-1.9</td>\n",
       "    </tr>\n",
       "  </tbody>\n",
       "</table>\n",
       "</div>"
      ],
      "text/plain": [
       "   Date  Temperature  Anomaly\n",
       "0    18         34.2     -3.2\n",
       "1    18         34.7     -2.7\n",
       "2    18         35.5     -1.9"
      ]
     },
     "execution_count": 155,
     "metadata": {},
     "output_type": "execute_result"
    }
   ],
   "source": [
    "nyc_df.head(3)"
   ]
  },
  {
   "cell_type": "markdown",
   "id": "b2b6960e",
   "metadata": {},
   "source": [
    "### Section 4 - Descriptive Statistics"
   ]
  },
  {
   "cell_type": "code",
   "execution_count": 156,
   "id": "173dd443",
   "metadata": {},
   "outputs": [
    {
     "data": {
      "text/plain": [
       "count    124.00\n",
       "mean      37.60\n",
       "std        4.54\n",
       "min       26.10\n",
       "25%       34.58\n",
       "50%       37.60\n",
       "75%       40.60\n",
       "max       47.60\n",
       "Name: Temperature, dtype: float64"
      ]
     },
     "execution_count": 156,
     "metadata": {},
     "output_type": "execute_result"
    }
   ],
   "source": [
    "# Calculating Basic Descriptive Statistics for the Dataset\n",
    "pd.set_option('display.precision', 2)\n",
    "\n",
    "nyc_df['Temperature'].describe()"
   ]
  },
  {
   "cell_type": "markdown",
   "id": "42d96244",
   "metadata": {},
   "source": [
    "### Section 5 - Build the Model"
   ]
  },
  {
   "cell_type": "code",
   "execution_count": 157,
   "id": "dd05f9f1",
   "metadata": {},
   "outputs": [],
   "source": [
    "# Forecasting Future January Average High Temperatures\n",
    "# from scipy import stats\n",
    "\n",
    "linear_regression = stats.linregress(x=nyc.Date,\n",
    "                                     y=nyc.Temperature)\n"
   ]
  },
  {
   "cell_type": "code",
   "execution_count": 158,
   "id": "f6e49d7c",
   "metadata": {},
   "outputs": [
    {
     "data": {
      "text/plain": [
       "np.float64(0.014771361132966163)"
      ]
     },
     "execution_count": 158,
     "metadata": {},
     "output_type": "execute_result"
    }
   ],
   "source": [
    "linear_regression.slope"
   ]
  },
  {
   "cell_type": "code",
   "execution_count": 159,
   "id": "43a053d2",
   "metadata": {},
   "outputs": [
    {
     "data": {
      "text/plain": [
       "np.float64(8.694993233674289)"
      ]
     },
     "execution_count": 159,
     "metadata": {},
     "output_type": "execute_result"
    }
   ],
   "source": [
    "linear_regression.intercept"
   ]
  },
  {
   "cell_type": "markdown",
   "id": "99045398",
   "metadata": {},
   "source": [
    "### Section 6 - Predict\n",
    "#### the 'average high temp in Jan' for the year 2024"
   ]
  },
  {
   "cell_type": "code",
   "execution_count": 160,
   "id": "dadb2e92",
   "metadata": {},
   "outputs": [
    {
     "data": {
      "text/plain": [
       "np.float64(38.5922281667978)"
      ]
     },
     "execution_count": 160,
     "metadata": {},
     "output_type": "execute_result"
    }
   ],
   "source": [
    "linear_regression.slope * 2024 + linear_regression.intercept"
   ]
  },
  {
   "cell_type": "markdown",
   "id": "7844ce0b",
   "metadata": {},
   "source": [
    "### Section 7 - Visualizations"
   ]
  },
  {
   "cell_type": "code",
   "execution_count": 161,
   "id": "e46bc65e",
   "metadata": {},
   "outputs": [
    {
     "data": {
      "image/png": "[encoded data removed]",
      "text/plain": [
       "<Figure size 640x480 with 1 Axes>"
      ]
     },
     "metadata": {},
     "output_type": "display_data"
    }
   ],
   "source": [
    "# Plotting the Average High Temperatures and a Regression Line\n",
    "# import seaborn as sns\n",
    "\n",
    "sns.set_style('whitegrid')\n",
    "\n",
    "axes = sns.regplot(x=nyc.Date, y=nyc.Temperature)"
   ]
  },
  {
   "cell_type": "code",
   "execution_count": 162,
   "id": "a3b33e19",
   "metadata": {},
   "outputs": [
    {
     "data": {
      "text/plain": [
       "(10.0, 70.0)"
      ]
     },
     "execution_count": 162,
     "metadata": {},
     "output_type": "execute_result"
    },
    {
     "data": {
      "image/png": "[encoded data removed]",
      "text/plain": [
       "<Figure size 640x480 with 1 Axes>"
      ]
     },
     "metadata": {},
     "output_type": "display_data"
    }
   ],
   "source": [
    "# Plotting the Average High Temperatures and a Regression Line\n",
    "# import seaborn as sns\n",
    "\n",
    "sns.set_style('whitegrid')\n",
    "\n",
    "axes = sns.regplot(x=nyc.Date, y=nyc.Temperature)\n",
    "\n",
    "axes.set_ylim(10, 70)"
   ]
  },
  {
   "cell_type": "code",
   "execution_count": 163,
   "id": "0d876c4f",
   "metadata": {},
   "outputs": [
    {
     "data": {
      "text/plain": [
       "2120"
      ]
     },
     "execution_count": 163,
     "metadata": {},
     "output_type": "execute_result"
    }
   ],
   "source": [
    "# Getting Time Series Datasets\n",
    "\n",
    "# Self Check Exercises \n",
    "# Exercise 3\n",
    "year = 2024\n",
    "\n",
    "slope = linear_regression.slope\n",
    "\n",
    "intercept = linear_regression.intercept\n",
    "\n",
    "temperature = slope * year + intercept\n",
    "\n",
    "while temperature < 40.0:\n",
    "    year += 1\n",
    "    temperature = slope * year + intercept\n",
    "\n",
    "year"
   ]
  }
 ],
 "metadata": {
  "kernelspec": {
   "display_name": "sklearn-env",
   "language": "python",
   "name": "python3"
  },
  "language_info": {
   "codemirror_mode": {
    "name": "ipython",
    "version": 3
   },
   "file_extension": ".py",
   "mimetype": "text/x-python",
   "name": "python",
   "nbconvert_exporter": "python",
   "pygments_lexer": "ipython3",
   "version": "3.13.3"
  }
 },
 "nbformat": 4,
 "nbformat_minor": 5
}
